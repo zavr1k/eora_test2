{
 "cells": [
  {
   "cell_type": "markdown",
   "id": "f96944c6",
   "metadata": {},
   "source": [
    "Для решения данной задачи я выбрал алгоритм - дерево решений.  \n",
    "Так как он довольно простой и легко интерпретируется а так же подходит для небольшого количества данных.  "
   ]
  },
  {
   "cell_type": "code",
   "execution_count": 45,
   "id": "8f8ff552",
   "metadata": {},
   "outputs": [],
   "source": [
    "import pandas as pd\n",
    "import numpy as np\n",
    "from matplotlib import pyplot as plt\n",
    "from sklearn.tree import DecisionTreeClassifier, plot_tree\n",
    "from sklearn.model_selection import train_test_split, GridSearchCV\n",
    "from sklearn.metrics import accuracy_score\n",
    "%matplotlib inline"
   ]
  },
  {
   "cell_type": "code",
   "execution_count": 46,
   "id": "f3807947",
   "metadata": {},
   "outputs": [],
   "source": [
    "df = pd.read_csv('table.csv')"
   ]
  },
  {
   "cell_type": "markdown",
   "id": "8e45fb06",
   "metadata": {},
   "source": [
    "### Посмотрим как распределены данные"
   ]
  },
  {
   "cell_type": "code",
   "execution_count": 47,
   "id": "0bcee5d0",
   "metadata": {},
   "outputs": [
    {
     "data": {
      "image/png": "[encoded data removed]",
      "text/plain": [
       "<Figure size 640x480 with 1 Axes>"
      ]
     },
     "metadata": {},
     "output_type": "display_data"
    }
   ],
   "source": [
    "plt.scatter(df['Score'], df['Action']);\n",
    "plt.xlabel('Score');\n",
    "plt.ylabel('User action');"
   ]
  },
  {
   "cell_type": "markdown",
   "id": "c31d107b",
   "metadata": {},
   "source": [
    "##### Подготовим данные."
   ]
  },
  {
   "cell_type": "code",
   "execution_count": 48,
   "id": "76adba3b",
   "metadata": {},
   "outputs": [],
   "source": [
    "df.drop(['Unnamed: 0'], axis=1, inplace=True)\n",
    "df['Action'] = df['Action'].map({'operator': 1, 'reask': 2, 'correct': 3})\n",
    "\n",
    "y = df['Action']                # ответы пользователей\n",
    "x = df.drop('Action', axis=1)   # score от бота"
   ]
  },
  {
   "cell_type": "markdown",
   "id": "7e4dd0c6",
   "metadata": {},
   "source": [
    "#### Разобьем датасет на тренировочну часть и отложенную выборку."
   ]
  },
  {
   "cell_type": "code",
   "execution_count": 49,
   "id": "5440cb19",
   "metadata": {},
   "outputs": [],
   "source": [
    "x_train, x_valid, y_train, y_valid = \\\n",
    "    train_test_split(x, y, test_size=0.3, random_state=17)"
   ]
  },
  {
   "cell_type": "code",
   "execution_count": 50,
   "id": "2fdc47a8",
   "metadata": {},
   "outputs": [
    {
     "data": {
      "text/plain": [
       "(0.6018853695324283, {'max_depth': 2})"
      ]
     },
     "execution_count": 50,
     "metadata": {},
     "output_type": "execute_result"
    }
   ],
   "source": [
    "dtree = DecisionTreeClassifier(random_state=17)\n",
    "tree_params = {'max_depth': range(1, 5)}\n",
    "tree_grid = GridSearchCV(dtree, tree_params, cv=5)\n",
    "tree_grid.fit(x_train, y_train)\n",
    "tree_grid.best_score_, tree_grid.best_params_"
   ]
  },
  {
   "cell_type": "markdown",
   "id": "e5f20659",
   "metadata": {},
   "source": [
    "#### Лучшие данные получились при глубине дерева равной 2\n",
    "Проверим их на отложенной выборке"
   ]
  },
  {
   "cell_type": "code",
   "execution_count": 52,
   "id": "d96c3877",
   "metadata": {},
   "outputs": [
    {
     "name": "stdout",
     "output_type": "stream",
     "text": [
      "Результат на отложенной выборке: 68.47\n"
     ]
    }
   ],
   "source": [
    "predicted = tree_grid.predict(x_valid)\n",
    "tree_result = accuracy_score(y_valid, predicted)\n",
    "print(f'Результат на отложенной выборке: {tree_result * 100:.2f}')"
   ]
  },
  {
   "cell_type": "markdown",
   "id": "2341bd9e",
   "metadata": {},
   "source": [
    "### Точность алгоритма на отложенноый выборке получилась 68%"
   ]
  }
 ],
 "metadata": {
  "kernelspec": {
   "display_name": "Python 3 (ipykernel)",
   "language": "python",
   "name": "python3"
  },
  "language_info": {
   "codemirror_mode": {
    "name": "ipython",
    "version": 3
   },
   "file_extension": ".py",
   "mimetype": "text/x-python",
   "name": "python",
   "nbconvert_exporter": "python",
   "pygments_lexer": "ipython3",
   "version": "3.11.0"
  }
 },
 "nbformat": 4,
 "nbformat_minor": 5
}
